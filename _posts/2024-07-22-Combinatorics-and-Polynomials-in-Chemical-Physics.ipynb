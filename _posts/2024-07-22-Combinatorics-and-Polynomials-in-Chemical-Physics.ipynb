{
 "cells": [
  {
   "cell_type": "markdown",
   "id": "eb421c3e-0b31-4095-8f96-fddfc06e2bf8",
   "metadata": {},
   "source": [
    "# A Polynomial Framework for Perturbation Problems "
   ]
  },
  {
   "cell_type": "markdown",
   "id": "e04f2faf-fe6a-42a5-b35c-0fb588cdcd80",
   "metadata": {},
   "source": [
    "We know we can write every contribution in VPT as\n",
    "\n",
    "$$\n",
    "\\begin{align}\n",
    "&& \\left\\langle\\vec{n}\\middle| \\hat{O} \\middle|\\vec{n}+\\vec{k}\\right\\rangle = S_k(n) \\sum_{x \\in X(k)} T_x \\sum_{y \\in Y(x)} \\frac{P_y(n)}{E_y} && (1)\n",
    "\\end{align}\n",
    "$$\n",
    "\n",
    "where\n",
    "\n",
    "$$\n",
    "\\begin{align}\n",
    "S_k(n) &= \\prod_i \\begin{cases}\n",
    "     \\prod_{j=1}^{k_i} \\sqrt{n+j} && k_i > 0 \\\\\n",
    "     \\prod_{j=0}^{\\left|k_i\\right|-1} \\sqrt{n-j} && k_i < 0 \n",
    "\\end{cases} \\\\\n",
    "E_y &= \\prod_i \\sum_{j} y^{(i)}_j \\omega_j\n",
    "\\end{align}\n",
    "$$\n",
    "\n",
    "and $X(k)$ is a set of total coordinate changes determined by the number of raising/lower steps in $\\hat{O}$ that add up to $\\vec{k}$, $T_x$ is a product of tensor coefficients for the given coordiante changes, based on the terms of the expansions in $\\hat{O}$, $Y(x)$ is a set of paths over the different raising/lowering block sizes that add up to $k$, and $P_y(n)$ is a sum of polynomials in $n$ that arise from the raising/lower steps taken"
   ]
  },
  {
   "cell_type": "markdown",
   "id": "fe379a91-2790-4688-80fc-839fd63ead8d",
   "metadata": {},
   "source": [
    "This leads to a very natural tree structure for storing the results of a given derivation, where at the top level, the correction is stored with reference to the total change ($k$) and any baseline shift off of $n$ (this will be 0 in general for final derivation results). The first proper tree roots are then the $T_x$ terms, from which $x$ may be extracted when actually computing terms, then at the next level, we have the $E_y$ term, which can be stored as just the $y$ matrix in general, and finally at the third and lowest level in the tree we have the list of nodes that define each product polynomial"
   ]
  },
  {
   "cell_type": "markdown",
   "id": "7fc3a8f5-e1f0-4d09-86c1-cdec0914fd47",
   "metadata": {},
   "source": [
    "We can then note that in general, to preserve the convenient recursive formulation of VPT, we will need to evaluate terms of the form, e.g.\n",
    "\n",
    "$$\n",
    "\\left\\langle\\vec{n}\\middle| \\hat{O_1}\\hat{O_2} \\middle|\\vec{n}\\right\\rangle = \\sum_{k} \\left\\langle\\vec{n}\\middle| \\hat{O_1} \\middle|\\vec{n}+\\vec{k}\\right\\rangle \\left\\langle\\vec{n}+\\vec{k}\\middle| \\hat{O_2} \\middle|\\vec{n}\\right\\rangle\n",
    "$$\n",
    "\n",
    "where we can write\n",
    "\n",
    "$$\n",
    "\\left\\langle\\vec{n}+\\vec{k}\\middle| \\hat{O_2} \\middle|\\vec{n}\\right\\rangle = \\left\\langle\\vec{m}\\middle| \\hat{O_2} \\middle|\\vec{m}-\\vec{k}\\right\\rangle\n",
    "$$\n",
    "\n",
    "for $m = n + k$, allows us to first obtain the evaluation tree for the $O_2$ term and simply apply a shift of the baseline to multiply in with the $O_1$ term by rexpressing the $P_y(m)$ terms as $\\tilde{P}_y(n)$"
   ]
  },
  {
   "cell_type": "markdown",
   "id": "0204b6e7-1121-420d-8c2f-116505786116",
   "metadata": {},
   "source": [
    "This requires that we be able to multiply the forms in $(1)$, which we can decompose term-by-term to give, e.g.,\n",
    "\n",
    "$$\n",
    "\\begin{align}\n",
    "S_k(n) S_{-k}(n+k) &= \\prod_i \\begin{cases}\n",
    "     \\prod_{j=1}^{k_i} n+j && k_i > 0 \\\\\n",
    "     \\prod_{j=0}^{\\left|k_i\\right|-1} n-j && k_i < 0 \n",
    "\\end{cases} \\\\\n",
    "  &= P_\\Delta(n)\n",
    "\\end{align}\n",
    "$$\n",
    "\n",
    "which is of course more complicated in general, but provides a product of square roots and some polynomial from where the square root products overlap"
   ]
  },
  {
   "cell_type": "markdown",
   "id": "99901656-d3a8-4c8f-9cb9-32736c50e03d",
   "metadata": {},
   "source": [
    "Notably, we can show that for all perturbation problems, it should always be in the case that \n",
    "\n",
    "$$\n",
    "S_{k_1}(n) S_{k_2}(n+d) = S_{k}(n) P_\\Delta(n)\n",
    "$$\n",
    "\n",
    "for some overall displacement $k$ and attendant remainder polynomial $P_\\Delta$"
   ]
  },
  {
   "cell_type": "markdown",
   "id": "ca931fb2-d00a-4e56-9145-82afd491b212",
   "metadata": {},
   "source": [
    "This means we can write \n",
    "\n",
    "$$\n",
    "\\left\\langle\\vec{n}\\middle| \\hat{O_1} \\middle|\\vec{n}+\\vec{k}\\right\\rangle \\left\\langle\\vec{n}+\\vec{k}\\middle| \\hat{O_2} \\middle|\\vec{n}\\right\\rangle = \n",
    "    S_k(n) \n",
    "    \\sum_{x_1 \\in X(k_1),x_2 \\in X(k_2)} T_{x_1} T_{x_2} \n",
    "    \\sum_{y_1 \\in Y(x_1),y_2 \\in Y(x_2)} \\frac{P_{y_1}(n)\\tilde{P}_{y_2}(n)P_\\Delta{n}}{E_{y_1}E_{y_2}}\n",
    "$$"
   ]
  },
  {
   "cell_type": "markdown",
   "id": "12d95687-bfbf-467a-9f8c-d6024dbf40c5",
   "metadata": {},
   "source": []
  }
 ],
 "metadata": {
  "kernelspec": {
   "display_name": "Python 3.9 (dev)",
   "language": "python",
   "name": "python3.9_dev"
  },
  "language_info": {
   "codemirror_mode": {
    "name": "ipython",
    "version": 3
   },
   "file_extension": ".py",
   "mimetype": "text/x-python",
   "name": "python",
   "nbconvert_exporter": "python",
   "pygments_lexer": "ipython3",
   "version": "3.9.1"
  }
 },
 "nbformat": 4,
 "nbformat_minor": 5
}
