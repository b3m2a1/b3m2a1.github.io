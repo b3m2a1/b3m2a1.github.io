{
 "cells": [
  {
   "cell_type": "code",
   "execution_count": 1,
   "id": "4e821e10-184a-4cbc-8c5d-10051107b7e5",
   "metadata": {},
   "outputs": [
    {
     "data": {
      "application/vnd.jupyter.widget-view+json": {
       "model_id": "0a71a0aff62f4e28a977a8d16a065cfb",
       "version_major": 2,
       "version_minor": 0
      },
      "text/plain": []
     },
     "metadata": {},
     "output_type": "display_data"
    }
   ],
   "source": [
    "import sys, os, itertools, numpy as np\n",
    "sys.path.insert(0, os.path.expanduser(\"~/Documents/UW/Research/Development\"))\n",
    "\n",
    "def reload():\n",
    "    from McUtils.Jupyter import ModuleReloader\n",
    "    if 'McUtils' in sys.modules:\n",
    "        ModuleReloader('McUtils').reload()\n",
    "        ModuleReloader('McUtils.McUtils').reload()\n",
    "\n",
    "from McUtils.Jupyter import *"
   ]
  },
  {
   "cell_type": "code",
   "execution_count": null,
   "id": "c0e4656c-f772-4471-afb9-c5a6a017a80b",
   "metadata": {},
   "outputs": [],
   "source": [
    "JHTML.load(overwrite=True)"
   ]
  },
  {
   "cell_type": "code",
   "execution_count": 96,
   "id": "8054e42c-a0da-4056-b112-473b836b9e31",
   "metadata": {},
   "outputs": [
    {
     "data": {
      "application/vnd.jupyter.widget-view+json": {
       "model_id": "4dd6b9d6ce1c45e6b5c58871ef43501c",
       "version_major": 2,
       "version_minor": 0
      },
      "text/plain": [
       "HTMLElement(div, (HTMLElement(select, (HTMLElement(option, 'a', cls=[], style={}), HTMLElement(option, 'b', cl…"
      ]
     },
     "metadata": {},
     "output_type": "display_data"
    }
   ],
   "source": [
    "reload(); from McUtils.Jupyter import *\n",
    "\n",
    "wat = Selector('opt', ['a', 'b', 'c'], value=['b'], multiple=True)\n",
    "wat"
   ]
  },
  {
   "cell_type": "code",
   "execution_count": 100,
   "id": "94712634-eaa0-4913-906d-57726f7ccb6f",
   "metadata": {},
   "outputs": [],
   "source": [
    "wat.value = ['b', 'c']"
   ]
  }
 ],
 "metadata": {
  "kernelspec": {
   "display_name": "pyenv38",
   "language": "python",
   "name": "pyenv38"
  },
  "language_info": {
   "codemirror_mode": {
    "name": "ipython",
    "version": 3
   },
   "file_extension": ".py",
   "mimetype": "text/x-python",
   "name": "python",
   "nbconvert_exporter": "python",
   "pygments_lexer": "ipython3",
   "version": "3.8.8"
  }
 },
 "nbformat": 4,
 "nbformat_minor": 5
}
