{
 "cells": [
  {
   "cell_type": "code",
   "execution_count": 6,
   "id": "4e821e10-184a-4cbc-8c5d-10051107b7e5",
   "metadata": {},
   "outputs": [],
   "source": [
    "import sys, os, itertools, numpy as np\n",
    "sys.path.insert(0, os.path.expanduser(\"~/Documents/UW/Research/Development\"))\n",
    "\n",
    "def reload():\n",
    "    from McUtils.Jupyter import ModuleReloader\n",
    "    if 'McUtils' in sys.modules:\n",
    "        ModuleReloader('McUtils').reload()\n",
    "        ModuleReloader('McUtils.McUtils').reload()\n",
    "    \n",
    "    if 'Psience' in sys.modules:\n",
    "        ModuleReloader('Psience').reload()\n",
    "        ModuleReloader('Psience.Psience').reload()\n",
    "\n",
    "from McUtils.Jupyter import *"
   ]
  },
  {
   "cell_type": "code",
   "execution_count": 3,
   "id": "c0e4656c-f772-4471-afb9-c5a6a017a80b",
   "metadata": {},
   "outputs": [
    {
     "data": {
      "text/html": [
       "<h4>Extension installed to /Users/Mark/Documents/UW/Research/Development/venv/share/jupyter/nbextensions/ActiveHTMLWidget. You will need to reload the page to get the widgets to display.</h1>"
      ],
      "text/plain": [
       "<IPython.core.display.HTML object>"
      ]
     },
     "metadata": {},
     "output_type": "display_data"
    },
    {
     "data": {
      "text/html": [
       "<h4>Extension installed to /Users/Mark/Documents/UW/Research/Development/venv/share/jupyter/labextensions/ActiveHTMLWidget. You will need to reload the page to get the widgets to display.</h1>"
      ],
      "text/plain": [
       "<IPython.core.display.HTML object>"
      ]
     },
     "metadata": {},
     "output_type": "display_data"
    }
   ],
   "source": [
    "JHTML.load(overwrite=True)"
   ]
  },
  {
   "cell_type": "code",
   "execution_count": 2,
   "id": "8054e42c-a0da-4056-b112-473b836b9e31",
   "metadata": {},
   "outputs": [
    {
     "data": {
      "application/vnd.jupyter.widget-view+json": {
       "model_id": "b1538d9072154056ba85651a74553954",
       "version_major": 2,
       "version_minor": 0
      },
      "text/plain": [
       "HTMLElement(div, (HTMLElement(select, (HTMLElement(option, 'a', cls=[], style={}), HTMLElement(option, 'b', cl…"
      ]
     },
     "metadata": {},
     "output_type": "display_data"
    }
   ],
   "source": [
    "reload(); from McUtils.Jupyter import *\n",
    "\n",
    "wat = Selector('opt', ['a', 'b', 'c'], value=['b'], multiple=True)\n",
    "wat"
   ]
  },
  {
   "cell_type": "code",
   "execution_count": 3,
   "id": "5b4dd784-146b-49aa-973d-d60687000ce7",
   "metadata": {},
   "outputs": [
    {
     "data": {
      "text/plain": [
       "['a', 'b', 'c']"
      ]
     },
     "execution_count": 3,
     "metadata": {},
     "output_type": "execute_result"
    }
   ],
   "source": [
    "wat.value"
   ]
  },
  {
   "cell_type": "code",
   "execution_count": 100,
   "id": "94712634-eaa0-4913-906d-57726f7ccb6f",
   "metadata": {},
   "outputs": [],
   "source": [
    "wat.value = ['b', 'c']"
   ]
  },
  {
   "cell_type": "code",
   "execution_count": 7,
   "id": "0b8c9034-47ef-408d-b1d5-0927cc7a9d98",
   "metadata": {},
   "outputs": [],
   "source": [
    "import sys, os, itertools, numpy as np\n",
    "sys.path.insert(0, os.path.expanduser(\"~/Documents/UW/Research/Development\"))"
   ]
  },
  {
   "cell_type": "code",
   "execution_count": 49,
   "id": "5247289e-39e8-4b2d-aa5f-3db08cb3d1e4",
   "metadata": {},
   "outputs": [
    {
     "data": {
      "application/vnd.jupyter.widget-view+json": {
       "model_id": "21347e8e097344f0a4ad03eccc90125b",
       "version_major": 2,
       "version_minor": 0
      },
      "text/plain": [
       "HTMLElement(div, (HTMLElement(div, (HTMLElement(div, (HTMLElement(button, '1', cls=['btn', 'btn', 'btn-primary…"
      ]
     },
     "metadata": {},
     "output_type": "display_data"
    }
   ],
   "source": [
    "reload()\n",
    "from Psience.Molecools import Molecule\n",
    "from McUtils.Jupyter import JHTML\n",
    "\n",
    "wtf = Molecule.from_file(\n",
    "    '/Users/Mark/Documents/UW/Research/Development/Psience/ci/tests/TestData/nh3.fchk',\n",
    "    bonds=[\n",
    "        [0, 1],\n",
    "        [0, 2],\n",
    "        [0, 3]\n",
    "    ]\n",
    ").normal_modes.modes\n",
    "widg = wtf.to_widget()\n",
    "widg"
   ]
  },
  {
   "cell_type": "code",
   "execution_count": 50,
   "id": "5be91cbf-a15f-4cc9-91ab-93f3fb2e4c7d",
   "metadata": {},
   "outputs": [
    {
     "data": {
      "application/vnd.jupyter.widget-view+json": {
       "model_id": "2d5a4e56f6c64faebc8925fa87b80b72",
       "version_major": 2,
       "version_minor": 0
      },
      "text/plain": [
       "Output()"
      ]
     },
     "metadata": {},
     "output_type": "display_data"
    }
   ],
   "source": [
    "widg.debug_pane"
   ]
  },
  {
   "cell_type": "code",
   "execution_count": 104,
   "id": "a8ca7ec6-395f-4cf4-8f00-42bf5f1c8788",
   "metadata": {},
   "outputs": [
    {
     "data": {
      "application/vnd.jupyter.widget-view+json": {
       "model_id": "9638fddf86d3421ab4153b2042c4eb95",
       "version_major": 2,
       "version_minor": 0
      },
      "text/plain": [
       "HTMLElement(div, (HTMLElement(div, (HTMLElement(button, '1', cls=['btn', 'btn', 'btn-primary'], style={}), HTM…"
      ]
     },
     "metadata": {},
     "output_type": "display_data"
    }
   ],
   "source": [
    "reload()\n",
    "from Psience.Molecools import Molecule\n",
    "from McUtils.Jupyter import JHTML\n",
    "import McUtils.Jupyter as jupyter\n",
    "\n",
    "woof = jupyter.MenuSelect('which', [str(x+1) for x in range(6)], value='1', \n",
    "                          menu_type=jupyter.ButtonGroup\n",
    "                         )\n",
    "woof"
   ]
  },
  {
   "cell_type": "code",
   "execution_count": 109,
   "id": "bf00b5da-156b-44a4-a318-8196e5711539",
   "metadata": {},
   "outputs": [
    {
     "data": {
      "application/vnd.jupyter.widget-view+json": {
       "model_id": "55bfa963aebe4036abb67eef230009e0",
       "version_major": 2,
       "version_minor": 0
      },
      "text/plain": [
       "HTMLElement(div, (HTMLElement(div, (HTMLElement(button, '1', cls=['btn', 'btn', 'btn-primary'], style={}), HTM…"
      ]
     },
     "metadata": {},
     "output_type": "display_data"
    }
   ],
   "source": [
    "woof._widget_cache"
   ]
  },
  {
   "cell_type": "code",
   "execution_count": 108,
   "id": "7a542955-2a82-41b1-964c-5e8e3a10a203",
   "metadata": {},
   "outputs": [],
   "source": [
    "woof.value = '4'"
   ]
  },
  {
   "cell_type": "code",
   "execution_count": 102,
   "id": "a287fbf6-2b98-47c2-87ed-e66c7f193f83",
   "metadata": {},
   "outputs": [
    {
     "data": {
      "text/plain": [
       "[None, None, None, None, None, None]"
      ]
     },
     "execution_count": 102,
     "metadata": {},
     "output_type": "execute_result"
    }
   ],
   "source": [
    "[x.remove_class('active') for x in woof._obj._item_map.values()]"
   ]
  },
  {
   "cell_type": "code",
   "execution_count": 72,
   "id": "7d2d8e50-03d7-4a7d-a57a-c5b381e791e3",
   "metadata": {},
   "outputs": [],
   "source": [
    "woof.var.set_value('2', caller=woof)"
   ]
  },
  {
   "cell_type": "code",
   "execution_count": 136,
   "id": "05ee30af-4abb-4196-8710-a1953e6eae1c",
   "metadata": {},
   "outputs": [
    {
     "data": {
      "application/vnd.jupyter.widget-view+json": {
       "model_id": "ba219da4a4c74477bab02d478f55cfa5",
       "version_major": 2,
       "version_minor": 0
      },
      "text/plain": [
       "HTMLElement(div, (HTMLElement(button, '4', cls=['btn', 'btn', 'btn-primary'], style={}),), cls=['jhtml'], styl…"
      ]
     },
     "metadata": {},
     "output_type": "display_data"
    }
   ],
   "source": [
    "widg = woof._obj._item_map[woof._active_item].to_widget()\n",
    "widg.elem._debugPrint=True\n",
    "widg"
   ]
  },
  {
   "cell_type": "code",
   "execution_count": 139,
   "id": "71d3c0cc-ecad-49c2-9db0-fd41e270022f",
   "metadata": {},
   "outputs": [],
   "source": [
    "widg.remove_class('active');"
   ]
  },
  {
   "cell_type": "code",
   "execution_count": 123,
   "id": "2b888b00-e7c1-4953-9ea4-971aeefe624c",
   "metadata": {},
   "outputs": [],
   "source": [
    "woof._obj._item_map[woof._active_item].to_widget().elem.send_state('classList')"
   ]
  },
  {
   "cell_type": "code",
   "execution_count": 126,
   "id": "77c90ba7-1592-43a0-a3d4-4bf465d0bd02",
   "metadata": {},
   "outputs": [
    {
     "data": {
      "text/plain": [
       "['btn', 'btn', 'btn-primary']"
      ]
     },
     "execution_count": 126,
     "metadata": {},
     "output_type": "execute_result"
    }
   ],
   "source": [
    "woof._obj._item_map[woof._active_item].to_widget().elem.classList"
   ]
  },
  {
   "cell_type": "code",
   "execution_count": 127,
   "id": "1cf4c416-51e7-4ff5-8ffc-459ad80b3519",
   "metadata": {},
   "outputs": [
    {
     "data": {
      "application/vnd.jupyter.widget-view+json": {
       "model_id": "a678f77a04134ffd9f549d1e9404f898",
       "version_major": 2,
       "version_minor": 0
      },
      "text/plain": [
       "HTMLElement(button, '4', cls=['btn', 'btn', 'btn-primary'], style={})"
      ]
     },
     "metadata": {},
     "output_type": "display_data"
    }
   ],
   "source": [
    "woof._obj._item_map[woof._active_item].to_widget().elem"
   ]
  },
  {
   "cell_type": "code",
   "execution_count": 128,
   "id": "8821a2b9-56cb-40f8-9ad3-33d0ea28ba2f",
   "metadata": {},
   "outputs": [],
   "source": [
    "woof._obj._item_map[woof._active_item].to_widget().elem._debugPrint=True"
   ]
  },
  {
   "cell_type": "code",
   "execution_count": 129,
   "id": "9d387db4-bbe8-4a00-9231-bb92a082fd20",
   "metadata": {},
   "outputs": [
    {
     "data": {
      "application/vnd.jupyter.widget-view+json": {
       "model_id": "a678f77a04134ffd9f549d1e9404f898",
       "version_major": 2,
       "version_minor": 0
      },
      "text/plain": [
       "HTMLElement(button, '4', cls=['btn', 'btn', 'btn-primary'], style={})"
      ]
     },
     "metadata": {},
     "output_type": "display_data"
    }
   ],
   "source": [
    "woof._obj._item_map[woof._active_item].to_widget().elem"
   ]
  },
  {
   "cell_type": "code",
   "execution_count": 132,
   "id": "6333a4fc-1050-4261-9d6a-563e83cb6290",
   "metadata": {},
   "outputs": [],
   "source": [
    "woof._obj._item_map[woof._active_item].to_widget().elem.remove_class('active');"
   ]
  },
  {
   "cell_type": "code",
   "execution_count": 119,
   "id": "37503459-4feb-45b3-bf1a-f7bae88c7781",
   "metadata": {},
   "outputs": [
    {
     "data": {
      "text/plain": [
       "['btn', 'btn', 'btn-primary']"
      ]
     },
     "execution_count": 119,
     "metadata": {},
     "output_type": "execute_result"
    }
   ],
   "source": [
    "woof._obj._item_map[woof._active_item].to_widget().elem.classList"
   ]
  },
  {
   "cell_type": "code",
   "execution_count": 112,
   "id": "2c3d5872-96de-4580-9fac-a37a1b34d072",
   "metadata": {},
   "outputs": [
    {
     "data": {
      "application/vnd.jupyter.widget-view+json": {
       "model_id": "d7b46bccc10243da9f044b34a0e3aa2e",
       "version_major": 2,
       "version_minor": 0
      },
      "text/plain": [
       "HTMLElement(div, (HTMLElement(button, '4', cls=['btn', 'btn', 'btn-primary'], style={}),), cls=['jhtml'], styl…"
      ]
     },
     "metadata": {},
     "output_type": "display_data"
    }
   ],
   "source": [
    "woof._obj._item_map[woof._active_item]"
   ]
  },
  {
   "cell_type": "code",
   "execution_count": 82,
   "id": "2a6ce4f7-df87-4c04-bbdd-f3f9a895ea0e",
   "metadata": {},
   "outputs": [
    {
     "data": {
      "application/vnd.jupyter.widget-view+json": {
       "model_id": "2501cea937e5485d982876e82ec9b4b7",
       "version_major": 2,
       "version_minor": 0
      },
      "text/plain": [
       "HTMLElement(div, (HTMLElement(button, '1', cls=['btn', 'btn', 'btn-primary'], style={}),), cls=['jhtml'], styl…"
      ]
     },
     "metadata": {},
     "output_type": "display_data"
    }
   ],
   "source": [
    "next(iter(woof._obj._item_map.values()))"
   ]
  },
  {
   "cell_type": "code",
   "execution_count": 98,
   "id": "621be134-983b-4b1b-b872-129c90b41680",
   "metadata": {},
   "outputs": [],
   "source": [
    "woof.set_active('3')"
   ]
  },
  {
   "cell_type": "code",
   "execution_count": 93,
   "id": "2f0eabc7-c602-429f-b3d3-d17ae817efcd",
   "metadata": {},
   "outputs": [
    {
     "data": {
      "application/vnd.jupyter.widget-view+json": {
       "model_id": "96a6850e8cc34251b564132ff08332b2",
       "version_major": 2,
       "version_minor": 0
      },
      "text/plain": [
       "HTMLElement(div, (HTMLElement(div, (HTMLElement(div, (HTMLElement(button, '1', cls=['btn', 'btn', 'btn-primary…"
      ]
     },
     "metadata": {},
     "output_type": "display_data"
    }
   ],
   "source": [
    "jupyter.Card(list(woof._obj._item_map.values()))"
   ]
  },
  {
   "cell_type": "code",
   "execution_count": 85,
   "id": "5fc16190-4772-4ca3-99e9-cce3fa321471",
   "metadata": {},
   "outputs": [
    {
     "data": {
      "application/vnd.jupyter.widget-view+json": {
       "model_id": "ab400c1df6dd4bccb253fdd5de0b1d9c",
       "version_major": 2,
       "version_minor": 0
      },
      "text/plain": [
       "HTMLElement(div, (HTMLElement(button, '1', cls=['btn', 'btn', 'btn-primary', 'active'], style={}),), cls=['jht…"
      ]
     },
     "metadata": {},
     "output_type": "display_data"
    }
   ],
   "source": [
    "woof._obj._item_map[woof._active_item]"
   ]
  },
  {
   "cell_type": "code",
   "execution_count": 64,
   "id": "e4087b08-3db6-455f-af01-a07f8e5901d9",
   "metadata": {},
   "outputs": [],
   "source": [
    "woof.set_active('2')"
   ]
  },
  {
   "cell_type": "code",
   "execution_count": 63,
   "id": "d109e8bd-bce6-4ad8-91af-5c2869f925f1",
   "metadata": {},
   "outputs": [],
   "source": [
    "woof.value"
   ]
  },
  {
   "cell_type": "code",
   "execution_count": 35,
   "id": "84d3bc69-18bc-4be3-a3f7-5d620ac73f99",
   "metadata": {},
   "outputs": [
    {
     "data": {
      "text/plain": [
       "'1'"
      ]
     },
     "execution_count": 35,
     "metadata": {},
     "output_type": "execute_result"
    }
   ],
   "source": [
    "widg[0].value"
   ]
  },
  {
   "cell_type": "code",
   "execution_count": 12,
   "id": "23541687-19ea-42fd-972e-d3b6fa476a36",
   "metadata": {},
   "outputs": [],
   "source": [
    "ammonia = Molecule.from_file(\n",
    "    '/Users/Mark/Documents/UW/Research/Development/Psience/ci/tests/TestData/nh3.fchk',\n",
    "    bonds=[\n",
    "        [0, 1],\n",
    "        [0, 2],\n",
    "        [0, 3]\n",
    "    ]\n",
    ")"
   ]
  },
  {
   "cell_type": "code",
   "execution_count": 16,
   "id": "abdde77c-d0f5-42fe-a4bd-d0a8980866ea",
   "metadata": {},
   "outputs": [],
   "source": [
    "import McUtils.Jupyter as jupyter"
   ]
  },
  {
   "cell_type": "code",
   "execution_count": 22,
   "id": "7e6d7bdd-3a8a-434d-a07c-5f831c6ff043",
   "metadata": {},
   "outputs": [
    {
     "data": {
      "application/vnd.jupyter.widget-view+json": {
       "model_id": "4f216c09d05f42aa90c614bcfee1b2a4",
       "version_major": 2,
       "version_minor": 0
      },
      "text/plain": [
       "NGLWidget(max_frame=7)"
      ]
     },
     "metadata": {},
     "output_type": "display_data"
    }
   ],
   "source": [
    "ammonia.normal_modes.modes.visualize(which=0, step_size=10, mode='jupyter')"
   ]
  },
  {
   "cell_type": "code",
   "execution_count": 17,
   "id": "79ac5c7c-7ee5-4836-9669-70c6238af1bf",
   "metadata": {},
   "outputs": [
    {
     "data": {
      "application/vnd.jupyter.widget-view+json": {
       "model_id": "ae1e101cbbf64740952677e89582065d",
       "version_major": 2,
       "version_minor": 0
      },
      "text/plain": [
       "HTMLElement(div, (HTMLElement(div, (HTMLElement(div, (NGLWidget(max_frame=3),), cls=['card-body'], style={}),)…"
      ]
     },
     "metadata": {},
     "output_type": "display_data"
    }
   ],
   "source": [
    "jupyter.Card(\n",
    "    MoleculeGraphics(\n",
    "    ammonia.atoms,\n",
    "    [ammonia.coords, ammonia.coords*1.1, ammonia.coords*1.6, ammonia.coords*2],\n",
    "    bonds=ammonia.bonds\n",
    ")\n",
    ")"
   ]
  },
  {
   "cell_type": "code",
   "execution_count": 11,
   "id": "56a9eb00-1f77-45f8-a8d6-025fc38ab715",
   "metadata": {},
   "outputs": [
    {
     "data": {
      "application/vnd.jupyter.widget-view+json": {
       "model_id": "29fa0be7aa364d49916bf561590f4d21",
       "version_major": 2,
       "version_minor": 0
      },
      "text/plain": [
       "NGLWidget()"
      ]
     },
     "metadata": {},
     "output_type": "display_data"
    }
   ],
   "source": [
    "MoleculeGraphics(\n",
    "    '/Users/Mark/Documents/UW/Research/Development/Psience/ci/tests/TestData/nh3.fchk',\n",
    "    bonds=[\n",
    "        [0, 1],\n",
    "        [0, 2],\n",
    "        [0, 3]\n",
    "    ]\n",
    ")"
   ]
  },
  {
   "cell_type": "code",
   "execution_count": 5,
   "id": "08cdd38e-f204-49aa-b0c2-2969a4d390f5",
   "metadata": {},
   "outputs": [
    {
     "data": {
      "text/html": [
       "<h4>Extension installed to /Users/Mark/Documents/UW/Research/Development/venv/share/jupyter/nbextensions/ActiveHTMLWidget. You will need to reload the page to get the widgets to display.</h1>"
      ],
      "text/plain": [
       "<IPython.core.display.HTML object>"
      ]
     },
     "metadata": {},
     "output_type": "display_data"
    },
    {
     "data": {
      "text/html": [
       "<h4>Extension installed to /Users/Mark/Documents/UW/Research/Development/venv/share/jupyter/labextensions/ActiveHTMLWidget. You will need to reload the page to get the widgets to display.</h1>"
      ],
      "text/plain": [
       "<IPython.core.display.HTML object>"
      ]
     },
     "metadata": {},
     "output_type": "display_data"
    }
   ],
   "source": [
    "JHTML.load(overwrite=True)"
   ]
  },
  {
   "cell_type": "code",
   "execution_count": 3,
   "id": "0269285a-4cc1-480d-bbf4-f35568414872",
   "metadata": {},
   "outputs": [],
   "source": [
    "import McUtils.Jupyter as jupyter"
   ]
  },
  {
   "cell_type": "code",
   "execution_count": 4,
   "id": "7aef35bb-f56b-4d9b-aa2e-c9f74c85292b",
   "metadata": {},
   "outputs": [
    {
     "data": {
      "application/vnd.jupyter.widget-view+json": {
       "model_id": "cb79195f7e544ad099a4db11ecc37c5b",
       "version_major": 2,
       "version_minor": 0
      },
      "text/plain": [
       "HTMLElement(div, (HTMLElement(div, (HTMLElement(div, 'asd', cls=['card-body'], style={}),), cls=['card'], styl…"
      ]
     },
     "metadata": {},
     "output_type": "display_data"
    }
   ],
   "source": [
    "jupyter.Card('asd')"
   ]
  },
  {
   "cell_type": "code",
   "execution_count": 1,
   "id": "be817cfa-a93a-461d-9dde-49617522a25c",
   "metadata": {},
   "outputs": [
    {
     "data": {
      "text/html": [
       "<h4>Extension installed to /Users/Mark/Documents/UW/Research/Development/pyenv38/share/jupyter/nbextensions/ActiveHTMLWidget. You will need to reload the page to get the widgets to display.</h1>"
      ],
      "text/plain": [
       "<IPython.core.display.HTML object>"
      ]
     },
     "metadata": {},
     "output_type": "display_data"
    },
    {
     "data": {
      "text/html": [
       "<h4>Extension installed to /Users/Mark/Documents/UW/Research/Development/pyenv38/share/jupyter/labextensions/ActiveHTMLWidget. You will need to reload the page to get the widgets to display.</h1>"
      ],
      "text/plain": [
       "<IPython.core.display.HTML object>"
      ]
     },
     "metadata": {},
     "output_type": "display_data"
    }
   ],
   "source": [
    "import sys, os, itertools, numpy as np\n",
    "sys.path.insert(0, os.path.expanduser(\"~/Documents/UW/Research/Development\"))\n",
    "\n",
    "import McUtils.Jupyter as jupyter\n",
    "jupyter.JHTML.load(overwrite=True)"
   ]
  },
  {
   "cell_type": "code",
   "execution_count": null,
   "id": "61cc3527-44f8-4b4f-ada7-42836a6f86e0",
   "metadata": {},
   "outputs": [],
   "source": []
  }
 ],
 "metadata": {
  "kernelspec": {
   "display_name": "pyenv38",
   "language": "python",
   "name": "pyenv38"
  },
  "language_info": {
   "codemirror_mode": {
    "name": "ipython",
    "version": 3
   },
   "file_extension": ".py",
   "mimetype": "text/x-python",
   "name": "python",
   "nbconvert_exporter": "python",
   "pygments_lexer": "ipython3",
   "version": "3.8.8"
  }
 },
 "nbformat": 4,
 "nbformat_minor": 5
}
