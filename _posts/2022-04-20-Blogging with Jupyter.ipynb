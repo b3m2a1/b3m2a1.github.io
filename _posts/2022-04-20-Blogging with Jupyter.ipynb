{
 "cells": [
  {
   "cell_type": "markdown",
   "id": "1fc43976-07ce-4cb4-883c-147bbb18d11b",
   "metadata": {},
   "source": [
    "---\n",
    "title: Blogging with Jupyter\n",
    "date: 2022-04-20\n",
    "permalink: blogging-with-jupyter\n",
    "tags: python jupyter\n",
    "---"
   ]
  },
  {
   "cell_type": "markdown",
   "id": "36aeca56-d02b-4ab4-ad9c-a250b7c7d40b",
   "metadata": {},
   "source": [
    "It has been a few years since I've contributed anything to this blog, which isn't to say that I have forgotten about it, but rather I found that the workflow for writing post I had wasn't conducive to the way I work these days."
   ]
  },
  {
   "cell_type": "markdown",
   "id": "5478d2f4-c8b6-4a1f-adf5-3dab8914114a",
   "metadata": {},
   "source": [
    "The last time I wrote anything was Spring of 2019. \n",
    "Between then and now (2022) I've changed the way I work from being almost exclusively in my extended version of Mathematica (I even wrote a fully functioning IDE for it!) to being mostly in PyCharm with some analyses run in Mathematica and Jupyter.\n",
    "There are a number of reasons for the change, but the biggest one is that it was easier for me to uproot years of high-quality development work in Mathematica and move it ot python than it was for my coworkers to get comfortable with Mathematica.\n",
    "It was unfortunate, but these things happen."
   ]
  },
  {
   "cell_type": "markdown",
   "id": "88663ccb-4684-4ad3-97f2-9dfa87ae68f4",
   "metadata": {},
   "source": [
    "My prior blogging workflow was heavily based on the convenience of working with Mathematica notebooks, which I still think are the best implementation of the notebook interface I've encountered.\n",
    "That meant, as I used Mathematica less and less, the previously convenient procedure I had became ever less so and coupled with the difficulty of moving years of work to a new platform my desire to write blog posts decreased steadily."
   ]
  },
  {
   "cell_type": "markdown",
   "id": "fa83f1bb-4550-4263-a129-e02fc9e7d0bb",
   "metadata": {},
   "source": [
    "But we're back here because it is worth taking another look at this blog as a vehicle for demonstrating some fun things I've been developing in python."
   ]
  },
  {
   "cell_type": "markdown",
   "id": "1146cae5-a2d3-45b9-922a-c70a13421c90",
   "metadata": {},
   "source": [
    "### How do we do this?"
   ]
  },
  {
   "cell_type": "markdown",
   "id": "26100ff8-5ec0-4e75-a374-f4c9cdc6197c",
   "metadata": {},
   "source": [
    "The actual act of blogging in Jupyter is pretty straightforward. Almost all cells will be Markdown cells so we can add text. Headers can be added naturally. Some small amounts of python output will be generated, for example, here's me loading a package I've been developing recently for making nice interfaces with Jupyter:"
   ]
  },
  {
   "cell_type": "code",
   "execution_count": 1,
   "id": "909295ff-82d6-43a0-a011-4d989f7077b5",
   "metadata": {},
   "outputs": [
    {
     "data": {
      "application/vnd.jupyter.widget-view+json": {
       "model_id": "cd0749a37c4c4529b0acb990638be101",
       "version_major": 2,
       "version_minor": 0
      },
      "text/plain": []
     },
     "metadata": {},
     "output_type": "display_data"
    },
    {
     "data": {
      "text/html": [
       "\n",
       "            <!-- CSS only -->\n",
       "            <link href=\"https://cdn.jsdelivr.net/npm/bootstrap@5.1.3/dist/css/bootstrap.min.css\" rel=\"stylesheet\" integrity=\"sha384-1BmE4kWBq78iYhFldvKuhfTAU6auU8tT94WrHftjDbrCEXSU1oBoqyl2QvZ6jIW3\" crossorigin=\"anonymous\">\n",
       "            <!-- JavaScript Bundle with Popper -->\n",
       "            <script src=\"https://cdn.jsdelivr.net/npm/bootstrap@5.1.3/dist/js/bootstrap.bundle.min.js\" integrity=\"sha384-ka7Sk0Gln4gmtz2MlQnikT1wXgYsOg+OMhuP+IlRH9sENBO0LRn5q+8nbTov4+1p\" crossorigin=\"anonymous\"></script>\n",
       "            <link rel=\"stylesheet\" href=\"https://cdn.jsdelivr.net/npm/bootstrap-icons@1.8.1/font/bootstrap-icons.css\">\n",
       "            \n",
       "        <div class=\"alert alert-info\">Bootstrap loaded <p class=\"d-none\" style=\"color:red\">This text will be visible if Bootstrap isn't loaded</p></div>\n",
       "        "
      ],
      "text/plain": [
       "<IPython.core.display.HTML object>"
      ]
     },
     "metadata": {},
     "output_type": "display_data"
    }
   ],
   "source": [
    "from McUtils.Jupyter import JHTML, DefaultOutputArea\n",
    "JHTML.load()"
   ]
  },
  {
   "cell_type": "markdown",
   "id": "30974207-d814-425a-8c21-e59fe23b4d83",
   "metadata": {},
   "source": [
    "### Exporting the Notebook"
   ]
  },
  {
   "cell_type": "markdown",
   "id": "ce9e7ee9-2d7a-4e3a-bbdd-f9e5874dfa39",
   "metadata": {},
   "source": [
    "This is straight-forward, althout I do introduce a helper or two. To start, we extract the cells from the notebook (we need to supply the notebook's name, `nb_name`)"
   ]
  },
  {
   "cell_type": "code",
   "execution_count": null,
   "id": "1a9daf61-9e36-4013-a0cd-d11a679940e7",
   "metadata": {},
   "outputs": [],
   "source": [
    "import nbformat\n",
    "\n",
    "nb_name = '2022-04-20-Blogging with Jupyter'\n",
    "this_nb = nb_name+'.ipynb'\n",
    "with open(this_nb) as nb:\n",
    "    nb_cells = nbformat.reads(nb.read(), as_version=4)"
   ]
  },
  {
   "cell_type": "markdown",
   "id": "4e78632d-65f7-4dd4-bd0b-04cd4e33aaec",
   "metadata": {},
   "source": [
    "Then in the simplest of cases, we can just write the converted form of this notebook to file"
   ]
  },
  {
   "cell_type": "code",
   "execution_count": 16,
   "id": "1c0fed70-9658-4037-ad0a-e0fb01a0058c",
   "metadata": {},
   "outputs": [],
   "source": [
    "from nbconvert import MarkdownExporter\n",
    "\n",
    "exporter = MarkdownExporter()\n",
    "\n",
    "(body, resources) = exporter.from_notebook_node(nb_cells)\n",
    "output_md = nb_name+'.md'\n",
    "\n",
    "with open(output_md, 'w+') as md:\n",
    "    md.write(body)"
   ]
  },
  {
   "cell_type": "markdown",
   "id": "f97382a0-b703-483b-99e4-78efed3a5ba8",
   "metadata": {},
   "source": [
    "And after we push Jekyll will turn this into a new blog post."
   ]
  },
  {
   "cell_type": "markdown",
   "id": "7b9d1cbc-01dd-48d7-aae3-e186bf1295f0",
   "metadata": {},
   "source": [
    "### Adding Filters"
   ]
  },
  {
   "cell_type": "markdown",
   "id": "1fd37ca7-5b6c-4c7d-8317-7792064e40a0",
   "metadata": {},
   "source": [
    "It is probably the case that we don't want to export every single cell. Some might be for analysis or, in particular, some might be the cells used for exporting the notebook itself. To add these filters, we simply use the tag filter mechanism described [here](https://nbconvert.readthedocs.io/en/6.5.0/removing_cells.html#removing-pieces-of-cells-using-cell-tags) and we are able to only use the relevant cells."
   ]
  },
  {
   "cell_type": "markdown",
   "id": "50af34e5-024e-4f76-beea-d24beba4fd9c",
   "metadata": {
    "tags": [
     "ignore"
    ]
   },
   "source": [
    "# Export"
   ]
  },
  {
   "cell_type": "code",
   "execution_count": 27,
   "id": "6e89b7cd-98b0-4fcc-809f-b4d408e5d82a",
   "metadata": {
    "tags": [
     "ignore"
    ]
   },
   "outputs": [],
   "source": [
    "from McUtils.Jupyter import ModuleReloader\n",
    "if 'McUtils' in sys.modules:\n",
    "    ModuleReloader('McUtils').reload()\n",
    "    ModuleReloader('McUtils.McUtils').reload()\n",
    "    \n",
    "from McUtils.Jupyter import NotebookExporter\n",
    "\n",
    "NotebookExporter('2022-04-20-Blogging with Jupyter').export();"
   ]
  }
 ],
 "metadata": {
  "kernelspec": {
   "display_name": "pyenv38",
   "language": "python",
   "name": "pyenv38"
  },
  "language_info": {
   "codemirror_mode": {
    "name": "ipython",
    "version": 3
   },
   "file_extension": ".py",
   "mimetype": "text/x-python",
   "name": "python",
   "nbconvert_exporter": "python",
   "pygments_lexer": "ipython3",
   "version": "3.8.8"
  }
 },
 "nbformat": 4,
 "nbformat_minor": 5
}
